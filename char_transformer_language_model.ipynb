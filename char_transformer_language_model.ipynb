{
 "cells": [
  {
   "cell_type": "code",
   "execution_count": 1,
   "metadata": {
    "collapsed": true
   },
   "outputs": [],
   "source": [
    "import torch\n",
    "import torch.nn as nn\n",
    "from torch.nn import functional as F"
   ]
  },
  {
   "cell_type": "code",
   "execution_count": 2,
   "outputs": [],
   "source": [
    "device = 'cuda' if torch.cuda.is_available() else 'cpu'\n",
    "\n",
    "# hyperparameters\n",
    "batch_size = 64  # how many sequences to train on at once, also known as B\n",
    "block_size = 256  # how long each context sequence is, also known as T\n",
    "max_iters = 5000\n",
    "eval_interval = 500  # how often to evaluate the model\n",
    "learning_rate = 3e-4\n",
    "eval_iters = 200\n",
    "save_interval = 1000  # how often to save the model\n",
    "n_embd = 384  # embedding dimension, also known as hidden size or C\n",
    "n_head = 6  # number of heads, also known as H\n",
    "n_layer = 6  # number of layers, also known as L\n",
    "dropout = 0.2  # dropout rate, also known as D\n"
   ],
   "metadata": {
    "collapsed": false
   }
  },
  {
   "cell_type": "code",
   "execution_count": 3,
   "outputs": [
    {
     "name": "stdout",
     "output_type": "stream",
     "text": [
      "Using device: cuda\n"
     ]
    }
   ],
   "source": [
    "torch.manual_seed(1337)\n",
    "print('Using device:', device)\n",
    "\n",
    "# Load the data, this is a long string of text\n",
    "with open('data/input.txt', 'r', encoding='utf-8') as f:\n",
    "    text = f.read()  # data is a long string"
   ],
   "metadata": {
    "collapsed": false
   }
  },
  {
   "cell_type": "code",
   "execution_count": 4,
   "outputs": [],
   "source": [
    "# here are all the unique characters that occur in this text\n",
    "chars = sorted(list(set(text)))\n",
    "vocab_size = len(chars)\n",
    "\n",
    "# create a mapping from characters to integers\n",
    "char_to_int = {ch: i for i, ch in enumerate(chars)}\n",
    "int_to_char = {i: ch for i, ch in enumerate(chars)}\n",
    "\n",
    "\n",
    "# encode using the mapping\n",
    "def encode(s):\n",
    "    return [char_to_int[c] for c in s]\n",
    "\n",
    "\n",
    "# decode using the mapping\n",
    "def decode(l):\n",
    "    return ''.join([int_to_char[i] for i in l])"
   ],
   "metadata": {
    "collapsed": false
   }
  },
  {
   "cell_type": "code",
   "execution_count": 5,
   "outputs": [],
   "source": [
    "# Train and test splits\n",
    "data = torch.tensor(encode(text), dtype=torch.long)  # convert to tensor\n",
    "n = int(0.9 * len(data))  # first 90% will be trained, the rest for validation\n",
    "train_data = data[:n]\n",
    "val_data = data[n:]"
   ],
   "metadata": {
    "collapsed": false
   }
  },
  {
   "cell_type": "code",
   "execution_count": null,
   "outputs": [],
   "source": [
    "# batching and shuffling\n",
    "def get_batch(split):\n",
    "    # generate a small batch of data of inputs x and targets y\n",
    "    data = train_data if split == 'train' else val_data\n",
    "    ix = torch.randint(len(data) - block_size, (batch_size,))  # random starting points\n",
    "    x = torch.stack([data[i:i + block_size] for i in ix])  # input\n",
    "    y = torch.stack([data[i + 1:i + block_size + 1] for i in ix])  # target\n",
    "    x, y = x.to(device), y.to(device)\n",
    "    return x, y"
   ],
   "metadata": {
    "collapsed": false
   }
  },
  {
   "cell_type": "code",
   "execution_count": null,
   "outputs": [],
   "source": [
    "# method to estimate the loss on the train and validation sets, without tracking gradients\n",
    "@torch.no_grad()\n",
    "def estimate_loss():\n",
    "    out = {}\n",
    "    model.eval()\n",
    "    for split in ['train', 'val']:\n",
    "        losses = torch.zeros(eval_iters)\n",
    "        for k in range(eval_iters):\n",
    "            X, Y = get_batch(split)  # get a batch of data\n",
    "            logits, loss = model.forward(X, Y)  # forward pass\n",
    "            losses[k] = loss.item()  # store the loss\n",
    "        out[split] = losses.mean()  # average loss\n",
    "    model.train()\n",
    "    return out"
   ],
   "metadata": {
    "collapsed": false
   }
  },
  {
   "cell_type": "code",
   "execution_count": 7,
   "outputs": [],
   "source": [
    "class Head(nn.Module):\n",
    "    \"\"\" one head of self-attention\n",
    "    this is the part that computes the attention scores and performs the weighted aggregation of the values \"\"\"\n",
    "\n",
    "    def __init__(self, head_size):\n",
    "        super().__init__()\n",
    "        # these are the three linear layers that are used to compute the attention scores\n",
    "        self.key = nn.Linear(n_embd, head_size, bias=False)  # (B,T,C) -> (B,T,H)\n",
    "        self.query = nn.Linear(n_embd, head_size, bias=False)  # (B,T,C) -> (B,T,H)\n",
    "        self.value = nn.Linear(n_embd, head_size, bias=False)  # (B,T,C) -> (B,T,H)\n",
    "\n",
    "        # this is the masking trick, it is used to prevent the model from attending to the future\n",
    "        self.register_buffer('tril', torch.tril(torch.ones(block_size, block_size)))\n",
    "\n",
    "        # this is the dropout, it is used to prevent over-fitting\n",
    "        self.dropout = nn.Dropout(dropout)\n",
    "\n",
    "    def forward(self, x):\n",
    "        # x is the input, it has shape (B, T, C)\n",
    "        B, T, C = x.shape\n",
    "\n",
    "        # compute the keys, queries and values, (B, T, C) -> (B, T, H)\n",
    "        k = self.key(x)\n",
    "        q = self.query(x)\n",
    "        v = self.value(x)\n",
    "\n",
    "        # compute attention scores (\"affinities\"), (B, T, H) @ (B, H, T) -> (B, T, T)\n",
    "        wei = q @ k.transpose(-2, -1) * C ** -0.5  # attention scores\n",
    "        wei = wei.masked_fill(self.tril[:T, :T] == 0, float('-inf'))  # masking trick, future is masked\n",
    "        wei = F.softmax(wei, dim=-1)  # softmax to get the weights\n",
    "        wei = self.dropout(wei)  # dropout, to prevent over-fitting\n",
    "\n",
    "        # perform the weighted aggregation of the values, (B, T, T) @ (B, T, H) -> (B, T, H)\n",
    "        out = wei @ v  # weighted aggregation\n",
    "        return out"
   ],
   "metadata": {
    "collapsed": false
   }
  },
  {
   "cell_type": "code",
   "execution_count": 8,
   "outputs": [],
   "source": [
    "class MultiHeadAttention(nn.Module):\n",
    "    \"\"\" multiple heads of self-attention in parallel \"\"\"\n",
    "\n",
    "    def __init__(self, num_heads, head_size):\n",
    "        super().__init__()\n",
    "        self.heads = nn.ModuleList([Head(head_size) for _ in range(num_heads)])  # this is the list of heads\n",
    "        self.proj = nn.Linear(n_embd, n_embd)  # this is the projection layer, it is used to combine the heads\n",
    "        self.dropout = nn.Dropout(dropout)  # this is the dropout\n",
    "\n",
    "    def forward(self, x):\n",
    "        out = torch.cat([h(x) for h in self.heads], dim=-1)  # this is the concatenation of the heads\n",
    "        out = self.proj(out)  # this is the projection, it is used to combine the heads\n",
    "        out = self.dropout(out)  # this is the dropout, it is used to prevent over-fitting\n",
    "        return out"
   ],
   "metadata": {
    "collapsed": false
   }
  },
  {
   "cell_type": "code",
   "execution_count": 9,
   "outputs": [],
   "source": [
    "class FeedForward(nn.Module):\n",
    "    \"\"\" a simple linear layer followed by a non-linearity \"\"\"\n",
    "\n",
    "    def __init__(self, n_embd):\n",
    "        super().__init__()\n",
    "        # sim\n",
    "        self.net = nn.Sequential(\n",
    "            nn.Linear(n_embd, 4 * n_embd),\n",
    "            nn.ReLU(),\n",
    "            nn.Linear(4 * n_embd, n_embd),\n",
    "            nn.Dropout(dropout),\n",
    "        )\n",
    "\n",
    "    def forward(self, x):\n",
    "        return self.net(x)"
   ],
   "metadata": {
    "collapsed": false
   }
  },
  {
   "cell_type": "code",
   "execution_count": 10,
   "outputs": [],
   "source": [
    "class TransformerBlock(nn.Module):\n",
    "    \"\"\" Transformer block: communication followed by computation \"\"\"\n",
    "\n",
    "    def __init__(self, n_embd, n_head):\n",
    "        # n_embd: embedding dimension, n_head: the number of heads we'd like\n",
    "        super().__init__()\n",
    "        head_size = n_embd // n_head  # split the embedding dimension into n_head heads\n",
    "        self.sa = MultiHeadAttention(n_head, head_size)  # self-attention\n",
    "        self.ffwd = FeedForward(n_embd)  # feed-forward network\n",
    "        self.ln1 = nn.LayerNorm(n_embd)  # used to normalize the input of the self-attention\n",
    "        self.ln2 = nn.LayerNorm(n_embd)  # used to normalize the input of the feed-forward network\n",
    "\n",
    "    def forward(self, x):\n",
    "        x_temp = self.ln1(x)  # normalize the input\n",
    "        x_temp = self.sa(x_temp)  # self-attention\n",
    "        x = x + x_temp  # residual connection\n",
    "        x_temp = self.ln2(x)  # normalize the input\n",
    "        x_temp = self.ffwd(x_temp)  # feed-forward network\n",
    "        x = x + x_temp  # residual connection\n",
    "        return x"
   ],
   "metadata": {
    "collapsed": false
   }
  },
  {
   "cell_type": "code",
   "execution_count": 11,
   "outputs": [],
   "source": [
    "class BigramLanguageModel(nn.Module):\n",
    "    \"\"\" a simple bigram language model, it is used to initialize the parameters of the transformer \"\"\"\n",
    "\n",
    "    def __init__(self):\n",
    "        super().__init__()\n",
    "        # each token directly reads off the logits for the next token from a lookup table\n",
    "        self.token_embedding_table = nn.Embedding(vocab_size, n_embd)  # token embedding table, (V,C)\n",
    "        self.position_embedding_table = nn.Embedding(block_size, n_embd)  # position embedding table, (T,C)\n",
    "        self.TransformerBlocks = nn.Sequential(\n",
    "            *[TransformerBlock(n_embd, n_head=n_head) for _ in range(n_layer)])  # transformer blocks, (B,T,C)\n",
    "        self.ln_f = nn.LayerNorm(n_embd)  # used to normalize the input of the final linear layer, (B,T,C)\n",
    "        self.lm_head = nn.Linear(n_embd, vocab_size)  # the final linear layer, (B,T,vocab_size)\n",
    "\n",
    "    def forward(self, idx, targets=None):\n",
    "        B, T = idx.shape\n",
    "\n",
    "        # idx and targets are both (B,T) tensor of integers\n",
    "        tok_emb = self.token_embedding_table(idx)  # token embedding, (B,T) -> (B,T,C)\n",
    "        pos_emb = self.position_embedding_table(torch.arange(T, device=device))  # position embedding, (T) -> (T,C)\n",
    "        x = tok_emb + pos_emb  # add the token and position embeddings, (B,T,C) + (T,C) -> (B,T,C)\n",
    "        x = self.TransformerBlocks(x)  # transformer blocks, (B,T,C) -> (B,T,C)\n",
    "        x = self.ln_f(x)  # normalize the input of the final linear layer, (B,T,C) -> (B,T,C)\n",
    "        logits = self.lm_head(x)  # the final linear layer, (B,T,C) -> (B,T,vocab_size)\n",
    "\n",
    "        if targets is None:\n",
    "            loss = None\n",
    "        else:\n",
    "            B, T, C = logits.shape\n",
    "            # reshape logits and targets to (B*T, C) and (B*T,)\n",
    "            logits = logits.view(B * T, C)\n",
    "            targets = targets.view(B * T)\n",
    "            # compute the loss\n",
    "            loss = F.cross_entropy(logits, targets)\n",
    "\n",
    "        return logits, loss\n",
    "\n",
    "    def generate(self, idx, max_new_tokens):\n",
    "        # idx is (B, T) array of indices in the current context\n",
    "        for _ in range(max_new_tokens):\n",
    "            # crop idx to the last block_size tokens\n",
    "            idx_cond = idx[:, -block_size:]\n",
    "            # get the predictions\n",
    "            logits, loss = self(idx_cond)\n",
    "            # focus only on the last time step\n",
    "            logits = logits[:, -1, :]  # becomes (B, C)\n",
    "            # apply softmax to get probabilities\n",
    "            probs = F.softmax(logits, dim=-1)  # (B, C)\n",
    "            # sample from the distribution\n",
    "            idx_next = torch.multinomial(probs, num_samples=1)  # (B, 1)\n",
    "            # append sampled index to the running sequence\n",
    "            idx = torch.cat((idx, idx_next), dim=1)  # (B, T+1)\n",
    "        return idx"
   ],
   "metadata": {
    "collapsed": false
   }
  },
  {
   "cell_type": "code",
   "execution_count": 12,
   "outputs": [
    {
     "name": "stdout",
     "output_type": "stream",
     "text": [
      "10.788929 M parameters\n"
     ]
    }
   ],
   "source": [
    "model = BigramLanguageModel()\n",
    "model_device = model.to(device)\n",
    "\n",
    "# print the number of parameters in the model\n",
    "print(sum(p.numel() for p in model_device.parameters()) / 1e6, 'M parameters')\n",
    "\n",
    "# create a PyTorch optimizer\n",
    "optimizer = torch.optim.AdamW(model_device.parameters(), lr=learning_rate)"
   ],
   "metadata": {
    "collapsed": false
   }
  },
  {
   "cell_type": "code",
   "execution_count": 13,
   "outputs": [
    {
     "name": "stdout",
     "output_type": "stream",
     "text": [
      "model not found\n"
     ]
    }
   ],
   "source": [
    "# load the model if it exists\n",
    "try:\n",
    "    model_device.load_state_dict(torch.load('char_transformer_language_model.pt'))\n",
    "    print('model loaded')\n",
    "except:\n",
    "    print('model not found')"
   ],
   "metadata": {
    "collapsed": false
   }
  },
  {
   "cell_type": "code",
   "execution_count": 15,
   "outputs": [
    {
     "name": "stdout",
     "output_type": "stream",
     "text": [
      "step 0: train loss 2.3127, val loss 2.3381\n",
      "step 500: train loss 1.7014, val loss 1.8612\n",
      "step 1000: train loss 1.4901, val loss 1.6826\n",
      "step 1500: train loss 1.3733, val loss 1.5926\n",
      "step 2000: train loss 1.3017, val loss 1.5355\n",
      "step 2500: train loss 1.2430, val loss 1.5080\n",
      "step 3000: train loss 1.2003, val loss 1.4933\n",
      "step 3500: train loss 1.1597, val loss 1.4777\n",
      "step 4000: train loss 1.1219, val loss 1.4776\n",
      "step 4500: train loss 1.0843, val loss 1.4811\n",
      "step 4999: train loss 1.0546, val loss 1.4875\n"
     ]
    }
   ],
   "source": [
    "# train the model\n",
    "for iter in range(max_iters):\n",
    "    # every once in a while evaluate the loss on train and val sets\n",
    "    if iter % eval_interval == 0 or iter == max_iters - 1:\n",
    "        losses = estimate_loss()\n",
    "        print(f\"step {iter}: train loss {losses['train']:.4f}, val loss {losses['val']:.4f}\")\n",
    "\n",
    "    # sample a batch of data\n",
    "    xb, yb = get_batch('train')\n",
    "\n",
    "    # evaluate the loss\n",
    "    logits, loss = model_device(xb, yb)\n",
    "    optimizer.zero_grad(set_to_none=True)\n",
    "    loss.backward()\n",
    "    optimizer.step()"
   ],
   "metadata": {
    "collapsed": false
   }
  },
  {
   "cell_type": "code",
   "execution_count": 20,
   "outputs": [],
   "source": [
    "# save the model, name it \"char_transformer_language_model.pt\"\n",
    "torch.save(model_device.state_dict(), 'char_transformer_language_model.pt')"
   ],
   "metadata": {
    "collapsed": false
   }
  },
  {
   "cell_type": "code",
   "execution_count": 21,
   "outputs": [
    {
     "name": "stdout",
     "output_type": "stream",
     "text": [
      "\n",
      "CORIOLANUS:\n",
      "'Tis very gold,' being so neithed blow to get\n",
      "The shadows noble tears of the pate; but bid us bold,\n",
      "Not her entertain makes, Henry, or master\n",
      "For beauting Edward sea to love-foursworn:\n",
      "As mine have forsward. I thank me for me;\n",
      "You'll make honour show, that till myself:\n",
      "I needle deith Billind, fair children,\n",
      "Necepting from our love's graver in my love!\n",
      "You shall see how my successistable.\n",
      "\n",
      "MERCUTIO:\n",
      "Vystacion, sir, pang not; I do say be it all\n",
      "fixlike, take stride.\n",
      "\n",
      "HASTINGS:\n",
      "Thy father time not that have been any spiron.\n",
      "\n",
      "CAMILLO:\n",
      "I am highness homein carried for more is gone a lanefut\n",
      "a voult, in all piece, will you never in,\n",
      "prove to be quarrel father; the hand,\n",
      "That honour spook sough by, perform'd\n",
      "not a vice, so lies; his order show no eld.\n",
      "\n",
      "FRIANA LAURIO:\n",
      "Base your ever with best blows, and till be arrest\n",
      "merrily perhaps, have no man suffer'd;\n",
      "Come, nothing a lady.\n",
      "\n",
      "DUKE VINCENTIO:\n",
      "'Tis some twelves, my love: is there long?\n",
      "\n",
      "Provost:\n",
      "Masterly with your words looks for \n"
     ]
    }
   ],
   "source": [
    "# generate from the model\n",
    "context = torch.zeros((1, 1), dtype=torch.long, device=device)\n",
    "print(decode(model_device.generate(context, max_new_tokens=1000)[0].tolist()))"
   ],
   "metadata": {
    "collapsed": false
   }
  },
  {
   "cell_type": "code",
   "execution_count": null,
   "outputs": [],
   "source": [],
   "metadata": {
    "collapsed": false
   }
  }
 ],
 "metadata": {
  "kernelspec": {
   "display_name": "Python 3",
   "language": "python",
   "name": "python3"
  },
  "language_info": {
   "codemirror_mode": {
    "name": "ipython",
    "version": 2
   },
   "file_extension": ".py",
   "mimetype": "text/x-python",
   "name": "python",
   "nbconvert_exporter": "python",
   "pygments_lexer": "ipython2",
   "version": "2.7.6"
  }
 },
 "nbformat": 4,
 "nbformat_minor": 0
}
